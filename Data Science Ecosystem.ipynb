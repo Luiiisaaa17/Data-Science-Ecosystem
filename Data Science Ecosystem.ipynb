{
  "metadata": {
    "kernelspec": {
      "name": "python",
      "display_name": "Python (Pyodide)",
      "language": "python"
    },
    "language_info": {
      "codemirror_mode": {
        "name": "python",
        "version": 3
      },
      "file_extension": ".py",
      "mimetype": "text/x-python",
      "name": "python",
      "nbconvert_exporter": "python",
      "pygments_lexer": "ipython3",
      "version": "3.8"
    }
  },
  "nbformat_minor": 4,
  "nbformat": 4,
  "cells": [
    {
      "cell_type": "markdown",
      "source": "## Data Science Tools and Ecosystem",
      "metadata": {}
    },
    {
      "cell_type": "markdown",
      "source": "This notebook provides an overview of the Data Science ecosystem, including languages, libraries, tools, and examples of arithmetic expressions.",
      "metadata": {}
    },
    {
      "cell_type": "markdown",
      "source": "**Objectives:**\n- List popular languages for Data Science\n- List commonly used libraries in Data Science\n- Provide examples of arithmetic expressions in Python\n- Demonstrate how to multiply and add numbers\n- Show how to convert minutes to hours",
      "metadata": {}
    },
    {
      "cell_type": "markdown",
      "source": "Languages used in Data Science:\n1. Python\n2. R\n3. SQL\n4. Julia\n5. Scala\n6. Java\n7. C++\n8. MATLAB",
      "metadata": {}
    },
    {
      "cell_type": "markdown",
      "source": "Data Science Libraries:\n1. NumPy\n2. Pandas\n3. Matplotlib\n4. Seaborn\n5. SciPy\n6. Scikit-learn\n7. TensorFlow\n8. Keras\n9. PyTorch\n10. Statsmodels",
      "metadata": {}
    },
    {
      "cell_type": "markdown",
      "source": "| Tool          | Description                                      |\n|---------------|--------------------------------------------------|\n| Jupyter       | Interactive computing environment                |\n| RStudio       | Integrated development environment for R         |\n| Apache Spark  | Unified analytics engine for big data processing |\n| TensorFlow    | Machine learning framework                       |\n| RapidMiner    | Data science platform                            |\n| KNIME         | Open-source data analytics platform              |\n| MATLAB        | Numerical computing environment                  |\n| SAS           | Statistical software suite                       |\n| IBM Watson    | AI and data analytics platform                   |",
      "metadata": {}
    },
    {
      "cell_type": "markdown",
      "source": "## Examples of Arithmetic Expressions\nArithmetic expressions allow you to perform basic mathematical operations such as addition, subtraction, multiplication, and division.",
      "metadata": {}
    },
    {
      "cell_type": "code",
      "source": "# This is a simple arithmetic expression to multiply then add integers\nresult = (3 * 4) + 5\nresult",
      "metadata": {
        "trusted": true
      },
      "outputs": [
        {
          "execution_count": 5,
          "output_type": "execute_result",
          "data": {
            "text/plain": "17"
          },
          "metadata": {}
        }
      ],
      "execution_count": 5
    },
    {
      "cell_type": "code",
      "source": "# This will convert 200 minutes to hours by dividing by 60\nminutes = 200\nhours = minutes / 60\nhours",
      "metadata": {
        "trusted": true
      },
      "outputs": [
        {
          "execution_count": 6,
          "output_type": "execute_result",
          "data": {
            "text/plain": "3.3333333333333335"
          },
          "metadata": {}
        }
      ],
      "execution_count": 6
    },
    {
      "cell_type": "markdown",
      "source": "## Author\n\nLuisa Marmolejo",
      "metadata": {}
    }
  ]
}